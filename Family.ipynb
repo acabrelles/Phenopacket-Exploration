{
 "cells": [
  {
   "cell_type": "code",
   "execution_count": 1,
   "metadata": {},
   "outputs": [],
   "source": [
    "import phenopackets.schema.v2 as pps2\n",
    "from phenopackets.schema.v2.core.individual_pb2 import MALE, FEMALE\n",
    "from phenopackets.schema.v2.core.pedigree_pb2 import Pedigree\n",
    "from google.protobuf.json_format import MessageToDict\n",
    "from google.protobuf.timestamp_pb2 import Timestamp\n",
    "import json\n",
    "import datetime"
   ]
  },
  {
   "cell_type": "markdown",
   "metadata": {},
   "source": [
    "## Phenopackets"
   ]
  },
  {
   "cell_type": "markdown",
   "metadata": {},
   "source": [
    "### Ontology Class"
   ]
  },
  {
   "cell_type": "code",
   "execution_count": 2,
   "metadata": {},
   "outputs": [],
   "source": [
    "obese = pps2.OntologyClass(id=\"NCIT:_C159658\", label = \"Obese\")\n",
    "tdisease = pps2.OntologyClass(id=\"NCIT:C3879\", label = \"Thyroid Gland Medullary Carcinoma\")\n",
    "thyroid = pps2.OntologyClass(id=\"NCIT:C12400\", label = \"Thyroid Gland\")"
   ]
  },
  {
   "cell_type": "markdown",
   "metadata": {},
   "source": [
    "### Phenotype & Disease"
   ]
  },
  {
   "cell_type": "code",
   "execution_count": 3,
   "metadata": {},
   "outputs": [],
   "source": [
    "pobese = pps2.PhenotypicFeature(type = obese)\n",
    "dthyroid = pps2.Disease(term = tdisease, primary_site=thyroid)"
   ]
  },
  {
   "cell_type": "markdown",
   "metadata": {},
   "source": [
    "### Metadata"
   ]
  },
  {
   "cell_type": "code",
   "execution_count": 4,
   "metadata": {},
   "outputs": [],
   "source": [
    "ncit = pps2.Resource(id=\"ncit\",name=\"NCI Thesaurus OBO Edition\",url=\"http://purl.obolibrary.org/obo/ncit.owl\",version=\"https://github.com/NCI-Thesaurus/thesaurus-obo-edition/releases/tag/v2024-05-07/ncit.owl\",namespace_prefix=\"NCIT\")\n",
    "snomed = pps2.Resource(id=\"snomed\",name=\"SNOMED CT\",url=\"https://browser.ihtsdotools.org/\",version=\"https://browser.ihtsdotools.org/?edition=MAIN/2024-12-01\",namespace_prefix=\"SNOMED\")\n",
    "metadata = pps2.MetaData(created = Timestamp(seconds=int(datetime.datetime.now().timestamp())),\n",
    "                         created_by = \"Aldar Cabrelles\",\n",
    "                         submitted_by = \"Mickey Mouse\",\n",
    "                         resources=[ncit,snomed],\n",
    "                         phenopacket_schema_version=\"2.0\")"
   ]
  },
  {
   "cell_type": "markdown",
   "metadata": {},
   "source": [
    "### Proband"
   ]
  },
  {
   "cell_type": "code",
   "execution_count": 5,
   "metadata": {},
   "outputs": [],
   "source": [
    "proband = pps2.Individual(id=\"ID1\",sex=MALE)\n",
    "probandpheno = pps2.Phenopacket(id=\"ID1_phenopacket\",\n",
    "                                subject = proband,\n",
    "                                phenotypic_features = [pobese], \n",
    "                                diseases = [dthyroid],\n",
    "                                meta_data = metadata)"
   ]
  },
  {
   "cell_type": "markdown",
   "metadata": {},
   "source": [
    "### Father"
   ]
  },
  {
   "cell_type": "code",
   "execution_count": 6,
   "metadata": {},
   "outputs": [],
   "source": [
    "father = pps2.Individual(id=\"ID2\",sex=MALE)\n",
    "fatherpheno = pps2.Phenopacket(id=\"ID2_phenopacket\",\n",
    "                               subject = father,\n",
    "                               phenotypic_features=[pobese],\n",
    "                               meta_data = metadata)"
   ]
  },
  {
   "cell_type": "markdown",
   "metadata": {},
   "source": [
    "### Mother"
   ]
  },
  {
   "cell_type": "code",
   "execution_count": 7,
   "metadata": {},
   "outputs": [],
   "source": [
    "mother = pps2.Individual(id=\"ID3\",sex=FEMALE)\n",
    "motherpheno = pps2.Phenopacket(id=\"ID3_phenopacket\",\n",
    "                               subject= mother,\n",
    "                               diseases = [dthyroid],\n",
    "                               meta_data = metadata)"
   ]
  },
  {
   "cell_type": "markdown",
   "metadata": {},
   "source": [
    "## Family"
   ]
  },
  {
   "cell_type": "markdown",
   "metadata": {},
   "source": [
    "### Pedigree"
   ]
  },
  {
   "cell_type": "code",
   "execution_count": 8,
   "metadata": {},
   "outputs": [],
   "source": [
    "person1 = Pedigree.Person(\n",
    "    family_id='FAM001',\n",
    "    individual_id='ID1',\n",
    "    paternal_id='ID2',\n",
    "    maternal_id='ID3',\n",
    "    affected_status=Pedigree.Person.AFFECTED,\n",
    "    sex=MALE\n",
    ")\n",
    "person2 = Pedigree.Person(\n",
    "    family_id='FAM002',\n",
    "    individual_id='ID2',\n",
    "    paternal_id=None,\n",
    "    maternal_id=None,\n",
    "    affected_status=Pedigree.Person.UNAFFECTED,\n",
    "    sex=MALE\n",
    ")\n",
    "person3 = Pedigree.Person(\n",
    "    family_id='FAM003',\n",
    "    individual_id='ID3',\n",
    "    paternal_id=None,\n",
    "    maternal_id=None,\n",
    "    affected_status=Pedigree.Person.AFFECTED,\n",
    "    sex=FEMALE\n",
    ")\n",
    "pedigree = Pedigree()\n",
    "pedigree.persons.append(person1,)\n",
    "pedigree.persons.append(person2,)\n",
    "pedigree.persons.append(person3,)"
   ]
  },
  {
   "cell_type": "markdown",
   "metadata": {},
   "source": [
    "### Joining everything"
   ]
  },
  {
   "cell_type": "code",
   "execution_count": 9,
   "metadata": {},
   "outputs": [],
   "source": [
    "family = pps2.Family(id=\"Family\",\n",
    "            proband=probandpheno,\n",
    "            relatives=[fatherpheno,motherpheno],\n",
    "            pedigree=pedigree,\n",
    "            meta_data=metadata)\n",
    "familyjson = MessageToDict(family)"
   ]
  },
  {
   "cell_type": "markdown",
   "metadata": {},
   "source": [
    "## Export"
   ]
  },
  {
   "cell_type": "code",
   "execution_count": 10,
   "metadata": {},
   "outputs": [],
   "source": [
    "with open('/Users/aldar/Documents/CRG-EGA/Curation/Phenopackets/Testing/Output/family.json', 'w', encoding='utf-8') as f:\n",
    "    json.dump(familyjson, f, ensure_ascii=False, indent=4)"
   ]
  }
 ],
 "metadata": {
  "kernelspec": {
   "display_name": "Python 3",
   "language": "python",
   "name": "python3"
  },
  "language_info": {
   "codemirror_mode": {
    "name": "ipython",
    "version": 3
   },
   "file_extension": ".py",
   "mimetype": "text/x-python",
   "name": "python",
   "nbconvert_exporter": "python",
   "pygments_lexer": "ipython3",
   "version": "3.12.8"
  }
 },
 "nbformat": 4,
 "nbformat_minor": 2
}
