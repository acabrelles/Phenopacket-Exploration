{
 "cells": [
  {
   "cell_type": "markdown",
   "metadata": {},
   "source": [
    "## Paso 1\n",
    "Importar las librerías necesarias (entre ellas phenopackets, pandas, numpy, y otras que ayuden a procesar elementos como fechas o países en formato ISO). Esta sección iréis aumentándola a medida que descubráis que necesitáis más librerías."
   ]
  },
  {
   "cell_type": "code",
   "execution_count": 1,
   "metadata": {},
   "outputs": [],
   "source": [
    "import phenopackets.schema.v2 as pps2\n",
    "#import numpy as np\n",
    "#import pandas as pd\n",
    "from google.protobuf.json_format import MessageToDict, ParseDict, MessageToJson\n",
    "from google.protobuf.timestamp_pb2 import Timestamp\n",
    "import json\n",
    "import datetime"
   ]
  },
  {
   "cell_type": "markdown",
   "metadata": {},
   "source": [
    "## Paso 2\n",
    "Crear las funciones que adapten los valores del csv a valores que acepte Phenopackets."
   ]
  },
  {
   "cell_type": "code",
   "execution_count": 2,
   "metadata": {},
   "outputs": [],
   "source": [
    "def isoage(age):\n",
    "    ageyear= int(age)\n",
    "    ageyeardecimal = round(age % 1,2)\n",
    "    agemonthdecimal = ageyeardecimal*12\n",
    "    agemonth=int(agemonthdecimal)\n",
    "    agedaysdecimal = agemonthdecimal % 1\n",
    "    ageday=int(agedaysdecimal*30.437)\n",
    "    finalage = \"P\"\n",
    "    if ageyear != 0:\n",
    "        finalage = finalage+str(ageyear)+\"Y\"\n",
    "    if agemonth != 0:\n",
    "        finalage = finalage+str(agemonth)+\"M\"\n",
    "    if ageday != 0:\n",
    "        finalage = finalage+str(ageday)+\"D\"\n",
    "    return finalage\n",
    "\n",
    "def disease(d_term=None,d_excluded=None,d_onset=None,d_resolution=None,d_disease_stage=None,d_clinical_tnm_finding=None,d_primary_site=None,d_laterality=None):\n",
    "    \n",
    "    try:\n",
    "        d = pps2.Disease(term=d_term)\n",
    "    except:\n",
    "        raise TypeError(\"The given term is incorrect\")\n",
    "    \n",
    "    \n",
    "    if d_excluded == True:\n",
    "        d.excluded = True\n",
    "    elif d_excluded == False:\n",
    "        d.excluded = False\n",
    "    elif isinstance(d_excluded,bool) == False:\n",
    "        raise TypeError(\"Excluded\")\n",
    "    \n",
    "    \n",
    "    if d_onset is None:\n",
    "        pass\n",
    "    else:\n",
    "        try:\n",
    "            d.onset.CopyFrom(pps2.TimeElement(age = pps2.Age(iso8601duration=isoage(d_onset))))\n",
    "        except:\n",
    "            raise TypeError(\"Onset is not a number\")\n",
    "        \n",
    "    if d_resolution is None:\n",
    "        pass\n",
    "    else:\n",
    "        try:\n",
    "            d.resolution.CopyFrom(pps2.TimeElement(age = pps2.Age(iso8601duration=isoage(d_resolution))))\n",
    "        except:\n",
    "            raise TypeError(\"Resolution is not a number\")\n",
    "    \n",
    "    if d_disease_stage is None:\n",
    "        pass\n",
    "    elif d_disease_stage is list or d_disease_stage is tuple:\n",
    "        try:\n",
    "            d.disease_stage.append(tuple(d_disease_stage))\n",
    "        except:\n",
    "            raise TypeError(\"The disease stages are not OntologyClass\")\n",
    "    else:\n",
    "        try:\n",
    "            d.disease_stage.append(d_disease_stage)\n",
    "        except:\n",
    "            raise TypeError(\"The disease stages are not OntologyClass\")\n",
    "    \n",
    "    if d_clinical_tnm_finding is None:\n",
    "        pass\n",
    "    elif d_clinical_tnm_finding is list or d_clinical_tnm_finding is tuple:\n",
    "        try:\n",
    "            d.clinical_tnm_finding.append(tuple(d_clinical_tnm_finding))\n",
    "        except:\n",
    "            raise TypeError(\"The TNM findings are not OntologyClass\")\n",
    "    else:\n",
    "        try:\n",
    "            d.clinical_tnm_finding.append(d_disease_stage)\n",
    "        except:\n",
    "            raise TypeError(\"The TNM findings are not OntologyClass\")\n",
    "    \n",
    "    if d_primary_site is None:\n",
    "        pass\n",
    "    else:\n",
    "        try:\n",
    "            d.primary_site.CopyFrom(d_primary_site)\n",
    "        except:\n",
    "            raise TypeError(\"Primary site is not a OntologyClass\")\n",
    "    if d_laterality is None:\n",
    "        pass\n",
    "    else:\n",
    "        try:\n",
    "            d.laterality.CopyFrom(d_laterality)\n",
    "        except:\n",
    "            raise TypeError(\"Laterality is not a OntologyClass\")\n",
    "    return d\n",
    "    \n",
    "    \n",
    "def sexph(n):\n",
    "    sex_dict = {1:\"MALE\",2:\"FEMALE\"}\n",
    "    try:\n",
    "        return sex_dict[n]\n",
    "    except:\n",
    "        return \"UNKNOWN_SEX\"\n",
    "def vitalph(n):\n",
    "    vital_status = {0:\"ALIVE\",1:\"DECEASED\",-1:\"UNKNOWN_STATUS\"}\n",
    "    try:\n",
    "        return vital_status[n]\n",
    "    except:\n",
    "        return \"UNKNOWN_STATUS\""
   ]
  },
  {
   "cell_type": "markdown",
   "metadata": {},
   "source": [
    "## Paso 3\n",
    "Crear los Ontology Class que se van a usar"
   ]
  },
  {
   "cell_type": "code",
   "execution_count": 3,
   "metadata": {},
   "outputs": [],
   "source": [
    "t2d = pps2.OntologyClass(id=\"NCIT:C26747\", label = \"Type 2 Diabetes Mellitus\")\n",
    "obese = pps2.OntologyClass(id=\"NCIT:_C159658\", label = \"Obese\")\n",
    "mdelay = pps2.OntologyClass(id=\"HP:0001270\", label = \"Motor delay\")\n",
    "\n",
    "tdisease = pps2.OntologyClass(id=\"NCIT:C3879\", label = \"Thyroid Gland Medullary Carcinoma\")\n",
    "thyroid = pps2.OntologyClass(id=\"NCIT:C12400\", label = \"Thyroid Gland\")\n",
    "\n",
    "fassay = pps2.OntologyClass(id=\"LOINC:26515-7\", label=\"Platelets [#/volume] in Blood\")\n",
    "funit = pps2.OntologyClass(id=\"UO:0000316\",label = \"cells per imcroliter\")\n",
    "\n",
    "f_tnm = pps2.OntologyClass(id=\"NCIT:C141023\", label=\"Medullary Thyroid Carcinoma pT0 TNM\")\n",
    "f_stage = pps2.OntologyClass(id=\"NCIT:C27971\", label=\"Stage IV\")\n",
    "\n",
    "mild = pps2.OntologyClass(id=\"HP:0012825\", label = \"Mild\")\n",
    "\n",
    "male = pps2.OntologyClass(id=\"NCIT:C46109\", label = \"Male Gender\")\n",
    "female = pps2.OntologyClass(id=\"NCIT:C46110\", label = \"Female Gender\")\n",
    "\n",
    "human = pps2.OntologyClass(id=\"NCIT:C14225\", label = \"Human\")"
   ]
  },
  {
   "cell_type": "code",
   "execution_count": 4,
   "metadata": {},
   "outputs": [],
   "source": [
    "fonset = pps2.TimeElement(age = pps2.Age(iso8601duration=isoage(40)))\n",
    "monset = pps2.TimeElement(age = pps2.Age(iso8601duration=isoage(60)))\n",
    "ponset = pps2.TimeElement(age = pps2.Age(iso8601duration=isoage(25)))"
   ]
  },
  {
   "cell_type": "code",
   "execution_count": 5,
   "metadata": {},
   "outputs": [],
   "source": [
    "fts = Timestamp(seconds=int(datetime.datetime(1962, 12, 5, 13, 7, 33).timestamp()))\n",
    "mts = Timestamp(seconds=int(datetime.datetime(1960, 2, 5, 12, 5, 20).timestamp()))\n",
    "pts = Timestamp(seconds=int(datetime.datetime(1994, 7, 2, 22, 34, 38).timestamp()))\n",
    "\n",
    "ftimeofdeath = pps2.TimeElement(timestamp=Timestamp(seconds=int(datetime.datetime.now().timestamp())))\n",
    "\n",
    "fage = pps2.TimeElement(age = pps2.Age(iso8601duration=isoage(62.34)))\n",
    "mage = pps2.TimeElement(age = pps2.Age(iso8601duration=isoage(64.56)))\n",
    "page = pps2.TimeElement(age = pps2.Age(iso8601duration=isoage(30.23)))"
   ]
  },
  {
   "cell_type": "code",
   "execution_count": 6,
   "metadata": {},
   "outputs": [],
   "source": [
    "fdead = pps2.VitalStatus(status = \"DECEASED\",time_of_death=ftimeofdeath, cause_of_death=tdisease, survival_time_in_days = 84)\n",
    "malive = pps2.VitalStatus(status = \"ALIVE\")\n",
    "palive =  pps2.VitalStatus(status = \"ALIVE\")"
   ]
  },
  {
   "cell_type": "code",
   "execution_count": 7,
   "metadata": {},
   "outputs": [],
   "source": [
    "pfile = pps2.File(uri = \"file://ThisFileDoesNotExistHaHa.vcf.gz\", individual_to_file_identifiers= {\"Proband\":\"Proband_VCF\"}, file_attributes = {\"genomeAssembly\":\"GRCh38\",\"fileFormat\":\"vcf\",\"description\":\"What did the pirate say when he turned 80? Aye matey.\"})\n",
    "ffile = pps2.File(uri = \"file://ThisFileDoesNotExistHeHe.vcf.gz\", individual_to_file_identifiers= {\"Father\":\"Father_VCF\"}, file_attributes = {\"genomeAssembly\":\"GRCh38\",\"fileFormat\":\"vcf\",\"description\":\"What do you call a train carrying bubblegum? A chew-chew train\"})\n",
    "mfile = pps2.File(uri = \"file://ThisFileDoesNotExistHoHo.vcf.gz\", individual_to_file_identifiers= {\"Mother\":\"Mother_VCF\"}, file_attributes = {\"genomeAssembly\":\"GRCh38\",\"fileFormat\":\"vcf\",\"description\":\"Did you hear about the guy who invented the knock-knock joke? He won the 'no-bell' prize.\"})"
   ]
  },
  {
   "cell_type": "code",
   "execution_count": 8,
   "metadata": {},
   "outputs": [],
   "source": [
    "father = pps2.Individual(id=\"Father\",sex=sexph(1), date_of_birth = fts, karyotypic_sex = \"XY\", gender = male, time_at_last_encounter=fage, vital_status = fdead, taxonomy=human)\n",
    "mother = pps2.Individual(id=\"Mother\",sex=sexph(2), date_of_birth = mts,karyotypic_sex = \"XX\", gender = female, time_at_last_encounter=mage, vital_status = malive, taxonomy=human)\n",
    "proband = pps2.Individual(id=\"Proband\",sex=sexph(1), date_of_birth = pts, karyotypic_sex = \"XY\", gender = male, time_at_last_encounter=page, vital_status = palive, taxonomy=human)\n"
   ]
  },
  {
   "cell_type": "code",
   "execution_count": 9,
   "metadata": {},
   "outputs": [],
   "source": [
    "fquant = pps2.Quantity(unit = funit, value = 24943, reference_range = pps2.ReferenceRange(unit = funit, low = 150000.0, high = 450000.0))\n",
    "fval = pps2.Value(quantity = fquant)\n",
    "\n",
    "msample = pps2.OntologyClass(id = \"NCIT:C18009\", label = \"Tumor Tissue Sample\")\n",
    "tcoll = pps2.TimeElement(age = pps2.Age(iso8601duration=isoage(58.4)))\n",
    "stissue = pps2.OntologyClass(id = \"SNOMED:127478007\", label = \"Tissue specimen from thyroid gland (specimen)\")\n",
    "sdtissue = pps2.OntologyClass(id = \"SNOMED:258566005\", label = \"Deoxyribonucleic acid sample (specimen)\")\n",
    "eprocedure = pps2.Procedure(code = pps2.OntologyClass(id=\"NCIT:C28743\",label=\"Punch Biopsy\"),\n",
    "                            body_site = pps2.OntologyClass(id=\"NCIT:C12664\",label=\"Abdomen\"),\n",
    "                            performed = pps2.TimeElement(age = pps2.Age(iso8601duration=isoage(58.31))))\n",
    "tprogression = pps2.OntologyClass(id = \"NCIT:84509\", label = \"Primary Malignant Neoplasm\")\n",
    "pstage=pps2.OntologyClass(id=\"SNOMED:718465002\",label=\"Clinical stage 0 (finding)\")\n",
    "tgrade = f_stage\n",
    "p_tnm = [f_tnm]\n",
    "hdiag = tdisease\n",
    "dmark = [pps2.OntologyClass(id = \"NCIT:C68748\", label = \"Her2/Neu Positive\"),\n",
    "         pps2.OntologyClass(id=\"NCIT:C131711\",label=\"Human Papillomavirus-18 Positive\")]\n",
    "pfeat = pps2.PhenotypicFeature(type = pps2.OntologyClass(id = \"NCIT:C27009\", label = \"Myalgia\"))\n",
    "mprocedure = pps2.Procedure(code = pps2.OntologyClass(id=\"NCIT:C40592\",label=\"Platelet Activating Factor Signaling Process\"),\n",
    "                            performed = pps2.TimeElement(age = pps2.Age(iso8601duration=isoage(58.32))))\n",
    "measample = pps2.Measurement(assay = fassay,\n",
    "                             value = fval,\n",
    "                             time_observed = pps2.TimeElement(timestamp=Timestamp(seconds=int(datetime.datetime(2008,7,3,13,30,21).timestamp()))),\n",
    "                             procedure = mprocedure)\n",
    "sproc = pps2.OntologyClass(id = \"NCIT:C64863\", label = \"Ultrasonic Surgical Aspiration\")\n",
    "sstor = pps2.OntologyClass(id = \"C178971\", label = \"Refrigerator\")\n"
   ]
  },
  {
   "cell_type": "code",
   "execution_count": 10,
   "metadata": {},
   "outputs": [],
   "source": [
    "biosample = pps2.Biosample(id=\"LukeIAmYourFather\",\n",
    "                           individual_id=\"Father\",description=\"Damn he's dead. Sucks.\",\n",
    "                           sampled_tissue=stissue,\n",
    "                           sample_type=sdtissue,\n",
    "                           phenotypic_features=[pfeat],\n",
    "                           measurements=[measample],\n",
    "                           taxonomy=human,\n",
    "                           time_of_collection=tcoll,\n",
    "                           histological_diagnosis=tdisease,\n",
    "                           tumor_progression=tprogression,\n",
    "                           tumor_grade=tgrade,\n",
    "                           pathological_stage=pstage,\n",
    "                           pathological_tnm_finding=(p_tnm),\n",
    "                           diagnostic_markers=(dmark),\n",
    "                           procedure=eprocedure,\n",
    "                           files=[ffile],\n",
    "                           material_sample=msample,\n",
    "                           sample_processing=sproc,\n",
    "                           sample_storage=sstor\n",
    "                           )"
   ]
  },
  {
   "cell_type": "code",
   "execution_count": 11,
   "metadata": {},
   "outputs": [],
   "source": [
    "pobese = pps2.PhenotypicFeature(type = obese, excluded = True)\n",
    "evidence = pps2.Evidence(evidence_code = pps2.OntologyClass(id=\"ECO:0006017\",label = \"author statement from published clinical study used in manual assertion\"),\n",
    "                         reference = pps2.ExternalReference(id = \"PMID:30962759\",description = \"Recurrent Erythema Nodosum in a Child with a SHOC2 Gene Mutation\"))\n",
    "p= pps2.PhenotypicFeature(type = mdelay, \n",
    "                              modifiers = [pps2.OntologyClass(id=\"HP:0031796\", label=\"Recurrent\")],\n",
    "                              severity = mild,\n",
    "                              onset = pps2.TimeElement(age = pps2.Age(iso8601duration = isoage(43))),\n",
    "                              resolution = pps2.TimeElement(age = pps2.Age(iso8601duration = isoage(45))),\n",
    "                              evidence = [evidence])"
   ]
  },
  {
   "cell_type": "code",
   "execution_count": 12,
   "metadata": {},
   "outputs": [],
   "source": [
    "vardes = pps2.VariationDescriptor(id = \"FakeVariant\",\n",
    "                                  vcf_record = pps2.VcfRecord(\n",
    "                                      genome_assembly = \"GRCh38\",\n",
    "                                      chrom = \"10\",\n",
    "                                      pos = 121496701,\n",
    "                                      id = \"rs121918506\",\n",
    "                                      ref = \"T\",\n",
    "                                      alt = \"G\",\n",
    "                                      qual = \".\",\n",
    "                                      filter = \".\",\n",
    "                                      info = \".\"\n",
    "                                  ),\n",
    "                                  )\n",
    "varint = pps2.VariantInterpretation(acmg_pathogenicity_classification = \"LIKELY_PATHOGENIC\", therapeutic_actionability = \"ACTIONABLE\", variation_descriptor = vardes)\n",
    "genom = pps2.GenomicInterpretation(subject_or_biosample_id = \"LukeIAmYourFather\",interpretation_status = \"CANDIDATE\",\n",
    "                                   variant_interpretation = varint)\n",
    "diagn = pps2.Diagnosis(disease = tdisease, genomic_interpretations = [genom])\n",
    "\n",
    "interpretation = pps2.Interpretation(id = \"Consortium:0000123456\",progress_status = \"SOLVED\", diagnosis = diagn, summary = \"Por dios que no se acaba esto.\"\n",
    "                    )"
   ]
  },
  {
   "cell_type": "code",
   "execution_count": 13,
   "metadata": {},
   "outputs": [],
   "source": [
    "dcovid = disease(d_term = tdisease,\n",
    "                 d_excluded=False,\n",
    "                 d_onset=62.2,\n",
    "                 d_resolution=64.56,\n",
    "                 d_disease_stage=f_stage,\n",
    "                 d_clinical_tnm_finding=f_tnm,\n",
    "                 d_primary_site=thyroid,\n",
    "                 d_laterality=pps2.OntologyClass(id = \"NCIT:C160199\", label = \"Tumor Laterality Right\"))\n",
    "ddiabetes = disease(d_term = t2d,\n",
    "                    d_excluded=True)"
   ]
  },
  {
   "cell_type": "code",
   "execution_count": 14,
   "metadata": {},
   "outputs": [],
   "source": [
    "dint = pps2.DoseInterval(quantity = pps2.Quantity(unit = pps2.OntologyClass(id = \"UO:0000022\", label=\"milligram\"),value = 30.0),\n",
    "                         schedule_frequency = pps2.OntologyClass(id=\"NCIT:C64496\",label=\"Twice Daily\"),\n",
    "                         interval = pps2.TimeInterval(start = Timestamp(seconds=int(datetime.datetime(2020, 3, 15, 13, 0, 0).timestamp())),\n",
    "                                                      end = Timestamp(seconds=int(datetime.datetime(202, 3, 25, 13, 7, 33).timestamp()))))\n",
    "\n",
    "treat = pps2.Treatment(agent = pps2.OntologyClass(id = \"DrugCentral:1610\", label = \"losartan\"),\n",
    "                       route_of_administration = pps2.OntologyClass(id = \"NCIT:C38288\", label = \"Oral Route of Administration\"),\n",
    "                       dose_intervals = [dint],\n",
    "                       drug_type = \"PRESCRIPTION\",\n",
    "                       cumulative_dose = pps2.Quantity(unit = pps2.OntologyClass(id = \"EFO:0002902\", label=\"milligram per kilogram\"),value = 200.0)\n",
    "                       )"
   ]
  },
  {
   "cell_type": "code",
   "execution_count": 15,
   "metadata": {},
   "outputs": [],
   "source": [
    "rthe = pps2.RadiationTherapy(modality = pps2.OntologyClass(id=\"NCIT:C104914\", label=\"High-LET Heavy Ion Therapy\"),\n",
    "                             body_site = pps2.OntologyClass(id=\"NCIT:C12664\",label=\"Abdomen\"),\n",
    "                             dosage = 43,\n",
    "                             fractions = 13)"
   ]
  },
  {
   "cell_type": "code",
   "execution_count": 16,
   "metadata": {},
   "outputs": [],
   "source": [
    "ther = pps2.TherapeuticRegimen(ontology_class= pps2.OntologyClass(id = \"\", label = \"\"),\n",
    "                        start_time = pps2.TimeElement(timestamp=Timestamp(seconds=int(datetime.datetime(2020,2,3,14,20,44).timestamp()))),\n",
    "                        end_time = ftimeofdeath,\n",
    "                        regimen_status = \"DISCONTINUED\"\n",
    "                        )"
   ]
  },
  {
   "cell_type": "code",
   "execution_count": 17,
   "metadata": {},
   "outputs": [],
   "source": [
    "med1 = pps2.MedicalAction(treatment = treat)\n",
    "med2 = pps2.MedicalAction(radiation_therapy = rthe,\n",
    "                          treatment_target = thyroid,\n",
    "                          treatment_intent = pps2.OntologyClass(id=\"NCIT:C185614\",label = \"Curative Therapy\"),\n",
    "                          response_to_treatment = pps2.OntologyClass(id = \"NCIT:C94226\", label = \"Improvement\"),\n",
    "                          adverse_events = [pps2.OntologyClass(id = \"NCIT:C2982\", label = \"Depression\")],\n",
    "                          treatment_termination_reason = pps2.OntologyClass(id = \"NCIT:C28554\", label = \"Dead\"))\n",
    "med3 = pps2.MedicalAction(therapeutic_regimen = ther)"
   ]
  },
  {
   "cell_type": "code",
   "execution_count": 18,
   "metadata": {},
   "outputs": [],
   "source": [
    "ncit = pps2.Resource(id=\"ncit\",name=\"NCI Thesaurus OBO Edition\",url=\"http://purl.obolibrary.org/obo/ncit.owl\",version=\"https://github.com/NCI-Thesaurus/thesaurus-obo-edition/releases/tag/v2024-05-07/ncit.owl\",namespace_prefix=\"NCIT\")\n",
    "snomed = pps2.Resource(id=\"snomed\",name=\"SNOMED CT\",url=\"https://browser.ihtsdotools.org/\",version=\"https://browser.ihtsdotools.org/?edition=MAIN/2024-12-01\",namespace_prefix=\"SNOMED\")\n",
    "metadata = pps2.MetaData(created = Timestamp(seconds=int(datetime.datetime.now().timestamp())),\n",
    "                         created_by = \"Aldar Cabrelles\",\n",
    "                         submitted_by = \"Mickey Mouse\",\n",
    "                         resources=[ncit,snomed],\n",
    "                         phenopacket_schema_version=\"2.0\")"
   ]
  },
  {
   "cell_type": "markdown",
   "metadata": {},
   "source": [
    "# Por FIN hacemos el phenopacket"
   ]
  },
  {
   "cell_type": "code",
   "execution_count": 19,
   "metadata": {},
   "outputs": [],
   "source": [
    "ph = pps2.Phenopacket(id=\"Father_info\",\n",
    "                      subject = father,\n",
    "                      phenotypic_features = [pobese,p], \n",
    "                      measurements = [measample],\n",
    "                      biosamples=[biosample],\n",
    "                      interpretations=[interpretation],\n",
    "                      diseases = [dcovid,ddiabetes],\n",
    "                      medical_actions = [med1,med2,med3],\n",
    "                      files = [ffile],\n",
    "                      meta_data = metadata)\n",
    "phjson = MessageToDict(ph)"
   ]
  },
  {
   "cell_type": "markdown",
   "metadata": {},
   "source": [
    "## Paso 6\n",
    "Exportar phenopacket en un archivo."
   ]
  },
  {
   "cell_type": "code",
   "execution_count": 20,
   "metadata": {},
   "outputs": [],
   "source": [
    "with open('/Users/aldar/Documents/CRG-EGA/Curation/Phenopackets/Testing/Output/extensivepheno.json', 'w', encoding='utf-8') as f:\n",
    "    json.dump(phjson, f, ensure_ascii=False, indent=4)"
   ]
  }
 ],
 "metadata": {
  "kernelspec": {
   "display_name": "Python 3",
   "language": "python",
   "name": "python3"
  },
  "language_info": {
   "codemirror_mode": {
    "name": "ipython",
    "version": 3
   },
   "file_extension": ".py",
   "mimetype": "text/x-python",
   "name": "python",
   "nbconvert_exporter": "python",
   "pygments_lexer": "ipython3",
   "version": "3.12.8"
  }
 },
 "nbformat": 4,
 "nbformat_minor": 2
}
